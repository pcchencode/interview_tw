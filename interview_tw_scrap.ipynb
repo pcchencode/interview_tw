{
 "cells": [
  {
   "cell_type": "code",
   "execution_count": 1,
   "metadata": {
    "ExecuteTime": {
     "end_time": "2020-09-22T02:31:45.943191Z",
     "start_time": "2020-09-22T02:31:44.910426Z"
    }
   },
   "outputs": [],
   "source": [
    "import pandas as pd\n",
    "import random\n",
    "import os\n",
    "from selenium import webdriver  # 從library中引入webdriver\n",
    "# from selenium.webdriver.common.by import By\n",
    "from fake_useragent import UserAgent # !pip install fake-useragent\n",
    "from selenium.webdriver.chrome.options import Options\n",
    "from selenium.webdriver.chrome.options import Options\n",
    "import time\n",
    "import urllib\n",
    "import argparse\n",
    "pd.set_option('display.max_rows', 250)"
   ]
  },
  {
   "cell_type": "code",
   "execution_count": 77,
   "metadata": {
    "ExecuteTime": {
     "end_time": "2020-09-22T02:43:46.029151Z",
     "start_time": "2020-09-22T02:43:38.813723Z"
    }
   },
   "outputs": [
    {
     "name": "stdout",
     "output_type": "stream",
     "text": [
      "Mozilla/5.0 (X11; Linux x86_64) AppleWebKit/537.36 (KHTML, like Gecko) Chrome/34.0.1847.137 Safari/4E423F\n"
     ]
    }
   ],
   "source": [
    "ac = 'your_fb_email'\n",
    "pw = 'your_fb_password'\n",
    "\n",
    "ua = UserAgent(verify_ssl=False)\n",
    "user_agent = ua.random\n",
    "options = Options()\n",
    "options.add_argument(\"window-size=800,800\")\n",
    "options.add_argument(f'user-agent={user_agent}')\n",
    "print(user_agent)\n",
    "\n",
    "browser = webdriver.Chrome('./chromedriver', options=options)\n",
    "browser.get('https://interview.tw')\n",
    "\n",
    "button = browser.find_element_by_xpath('//*[@id=\"navbar-share-btn\"]') #尋找登入點擊按鈕\n",
    "button.click()\n",
    "\n",
    "fb_login = browser.find_element_by_xpath('/html/body/div[12]/div/div/div/div[1]/div/div[2]/button[1]/img')\n",
    "fb_login.click()\n",
    "\n",
    "account = browser.find_elements_by_xpath('//*[@id=\"email\"]')\n",
    "account[0].send_keys(ac)\n",
    "\n",
    "password = browser.find_elements_by_xpath('//*[@id=\"pass\"]')\n",
    "password[0].send_keys(pw)\n",
    "\n",
    "button_login = browser.find_element_by_xpath('//*[@id=\"loginbutton\"]') \n",
    "button_login.click()"
   ]
  },
  {
   "cell_type": "code",
   "execution_count": 58,
   "metadata": {
    "ExecuteTime": {
     "end_time": "2020-09-22T02:43:03.933609Z",
     "start_time": "2020-09-22T02:42:58.798343Z"
    }
   },
   "outputs": [],
   "source": [
    "company = browser.find_element_by_xpath('//*[@id=\"iw-autocomplete\"]')\n",
    "company.click()\n",
    "company.send_keys('中央研究院')\n",
    "time.sleep(5)\n",
    "sinica = browser.find_element_by_xpath('//*[@id=\"step1\"]/div[1]/div[2]/div/div[1]')\n",
    "sinica.click()"
   ]
  },
  {
   "cell_type": "code",
   "execution_count": 54,
   "metadata": {},
   "outputs": [],
   "source": [
    "# company_code = browser.find_element_by_xpath('//*[@id=\"step1\"]/div[2]/div[2]/div[3]/input')\n",
    "# company_code.click()\n",
    "# company_code.send_keys('03811209')"
   ]
  },
  {
   "cell_type": "code",
   "execution_count": 59,
   "metadata": {
    "ExecuteTime": {
     "end_time": "2020-09-22T02:43:07.620332Z",
     "start_time": "2020-09-22T02:43:07.548612Z"
    }
   },
   "outputs": [],
   "source": [
    "job_title = browser.find_element_by_xpath('//*[@id=\"jobTitle\"]')\n",
    "job_title.click()\n",
    "job_title.send_keys('研究助理')"
   ]
  },
  {
   "cell_type": "code",
   "execution_count": 60,
   "metadata": {
    "ExecuteTime": {
     "end_time": "2020-09-22T02:43:08.318826Z",
     "start_time": "2020-09-22T02:43:08.279824Z"
    }
   },
   "outputs": [],
   "source": [
    "city = browser.find_element_by_xpath('//*[@id=\"select-city\"]/option[2]')\n",
    "city.click()"
   ]
  },
  {
   "cell_type": "code",
   "execution_count": 61,
   "metadata": {
    "ExecuteTime": {
     "end_time": "2020-09-22T02:43:09.775818Z",
     "start_time": "2020-09-22T02:43:09.663417Z"
    }
   },
   "outputs": [],
   "source": [
    "date_time = browser.find_element_by_xpath('//*[@id=\"step1\"]/div[5]/div[2]/input')\n",
    "date_time.click()\n",
    "jan = browser.find_element_by_xpath('//*[@id=\"datepickers-container\"]/div/div/div/div/div[1]')\n",
    "jan.click()"
   ]
  },
  {
   "cell_type": "code",
   "execution_count": 62,
   "metadata": {
    "ExecuteTime": {
     "end_time": "2020-09-22T02:43:10.838842Z",
     "start_time": "2020-09-22T02:43:10.788201Z"
    }
   },
   "outputs": [],
   "source": [
    "rate = browser.find_element_by_xpath('//*[@id=\"iw_rating\"]/div[3]/label')\n",
    "rate.click()"
   ]
  },
  {
   "cell_type": "code",
   "execution_count": 63,
   "metadata": {
    "ExecuteTime": {
     "end_time": "2020-09-22T02:43:11.607384Z",
     "start_time": "2020-09-22T02:43:11.564964Z"
    }
   },
   "outputs": [],
   "source": [
    "difficulty = browser.find_element_by_xpath('//*[@id=\"step1\"]/div[7]/div[2]/div[3]/label')\n",
    "difficulty.click()"
   ]
  },
  {
   "cell_type": "code",
   "execution_count": 64,
   "metadata": {
    "ExecuteTime": {
     "end_time": "2020-09-22T02:43:12.337154Z",
     "start_time": "2020-09-22T02:43:12.271224Z"
    }
   },
   "outputs": [],
   "source": [
    "result = browser.find_element_by_xpath('//*[@id=\"step1\"]/div[8]/div[2]/div[1]/label')\n",
    "result.click()"
   ]
  },
  {
   "cell_type": "code",
   "execution_count": 65,
   "metadata": {
    "ExecuteTime": {
     "end_time": "2020-09-22T02:43:12.846688Z",
     "start_time": "2020-09-22T02:43:12.790341Z"
    }
   },
   "outputs": [],
   "source": [
    "language = browser.find_element_by_xpath('//*[@id=\"choice1\"]')\n",
    "language.click()"
   ]
  },
  {
   "cell_type": "code",
   "execution_count": 66,
   "metadata": {
    "ExecuteTime": {
     "end_time": "2020-09-22T02:43:13.284063Z",
     "start_time": "2020-09-22T02:43:13.228790Z"
    }
   },
   "outputs": [],
   "source": [
    "exam = browser.find_element_by_xpath('//*[@id=\"hasTest2\"]')\n",
    "exam.click()"
   ]
  },
  {
   "cell_type": "code",
   "execution_count": 67,
   "metadata": {
    "ExecuteTime": {
     "end_time": "2020-09-22T02:43:13.802666Z",
     "start_time": "2020-09-22T02:43:13.746768Z"
    }
   },
   "outputs": [],
   "source": [
    "next_time = browser.find_element_by_xpath('//*[@id=\"nextTime2\"]')\n",
    "next_time.click()"
   ]
  },
  {
   "cell_type": "code",
   "execution_count": 68,
   "metadata": {
    "ExecuteTime": {
     "end_time": "2020-09-22T02:43:14.652945Z",
     "start_time": "2020-09-22T02:43:14.590564Z"
    }
   },
   "outputs": [],
   "source": [
    "how_long = browser.find_element_by_xpath('//*[@id=\"howLong1\"]')\n",
    "how_long.click()"
   ]
  },
  {
   "cell_type": "code",
   "execution_count": 69,
   "metadata": {
    "ExecuteTime": {
     "end_time": "2020-09-22T02:43:15.507276Z",
     "start_time": "2020-09-22T02:43:14.995894Z"
    }
   },
   "outputs": [],
   "source": [
    "nextPage = browser.find_element_by_xpath('//*[@id=\"step1\"]/div[13]/button')\n",
    "nextPage.click()"
   ]
  },
  {
   "cell_type": "markdown",
   "metadata": {},
   "source": [
    "***"
   ]
  },
  {
   "cell_type": "code",
   "execution_count": 70,
   "metadata": {
    "ExecuteTime": {
     "end_time": "2020-09-22T02:43:22.707295Z",
     "start_time": "2020-09-22T02:43:22.511881Z"
    }
   },
   "outputs": [],
   "source": [
    "process = browser.find_element_by_xpath('//*[@id=\"inputTextProcess\"]')\n",
    "process.click()\n",
    "process.send_keys('中央研究院是個古色古香的地方，非常適合學者做研究。基本上你來到這邊辦理完老師交代的事項，很多時間可以做自己的事情，非常適合想要出國深造的人當作跳板。')"
   ]
  },
  {
   "cell_type": "code",
   "execution_count": 71,
   "metadata": {
    "ExecuteTime": {
     "end_time": "2020-09-22T02:43:24.604533Z",
     "start_time": "2020-09-22T02:43:24.524787Z"
    }
   },
   "outputs": [],
   "source": [
    "question = browser.find_element_by_xpath('//*[@id=\"inputTextAskedTitle\"]')\n",
    "question.click()\n",
    "question.send_keys('研究問題與興趣')"
   ]
  },
  {
   "cell_type": "code",
   "execution_count": 72,
   "metadata": {
    "ExecuteTime": {
     "end_time": "2020-09-22T02:43:26.578476Z",
     "start_time": "2020-09-22T02:43:26.460373Z"
    }
   },
   "outputs": [],
   "source": [
    "answer = browser.find_element_by_xpath('//*[@id=\"inputTextAskedContent\"]')\n",
    "answer.click()\n",
    "answer.send_keys('照本宣科回答自己的研究問題。儘量跟老師的領域符合，不要老師專長是總體，你卻想要做應用個體，老師應該會傻眼貓咪。')"
   ]
  },
  {
   "cell_type": "code",
   "execution_count": 73,
   "metadata": {
    "ExecuteTime": {
     "end_time": "2020-09-22T02:43:27.713037Z",
     "start_time": "2020-09-22T02:43:27.572883Z"
    }
   },
   "outputs": [],
   "source": [
    "advice = browser.find_element_by_xpath('//*[@id=\"inputTextSuggestions\"]')\n",
    "advice.click()\n",
    "advice.send_keys('中研院處在一個地靈人傑的地方，很適合寫讀書計畫與做研究，也可以學到很多東西，好好做努力做，老師不會虧待你的（幫忙寫推薦信）。')"
   ]
  },
  {
   "cell_type": "code",
   "execution_count": 74,
   "metadata": {
    "ExecuteTime": {
     "end_time": "2020-09-22T02:43:28.412101Z",
     "start_time": "2020-09-22T02:43:28.349705Z"
    }
   },
   "outputs": [],
   "source": [
    "share = browser.find_element_by_xpath('//*[@id=\"step2\"]/div[4]/button')\n",
    "share.click()"
   ]
  },
  {
   "cell_type": "code",
   "execution_count": 75,
   "metadata": {
    "ExecuteTime": {
     "end_time": "2020-09-22T02:43:29.212977Z",
     "start_time": "2020-09-22T02:43:29.159509Z"
    }
   },
   "outputs": [],
   "source": [
    "submit = browser.find_element_by_xpath('//*[@id=\"submitModal\"]/div/div[3]/button[2]')\n",
    "submit.click()"
   ]
  },
  {
   "cell_type": "code",
   "execution_count": 76,
   "metadata": {
    "ExecuteTime": {
     "end_time": "2020-09-22T02:43:35.417614Z",
     "start_time": "2020-09-22T02:43:35.302088Z"
    }
   },
   "outputs": [],
   "source": [
    "browser.close()"
   ]
  }
 ],
 "metadata": {
  "kernelspec": {
   "display_name": "Python 3",
   "language": "python",
   "name": "python3"
  },
  "language_info": {
   "codemirror_mode": {
    "name": "ipython",
    "version": 3
   },
   "file_extension": ".py",
   "mimetype": "text/x-python",
   "name": "python",
   "nbconvert_exporter": "python",
   "pygments_lexer": "ipython3",
   "version": "3.7.6"
  }
 },
 "nbformat": 4,
 "nbformat_minor": 4
}
